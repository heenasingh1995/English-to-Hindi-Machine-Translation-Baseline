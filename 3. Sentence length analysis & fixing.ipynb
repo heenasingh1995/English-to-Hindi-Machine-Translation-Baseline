{
 "cells": [
  {
   "cell_type": "markdown",
   "id": "66aa66b2",
   "metadata": {},
   "source": [
    "# Importing necessary modules"
   ]
  },
  {
   "cell_type": "code",
   "execution_count": 1,
   "id": "2ad4bd44",
   "metadata": {},
   "outputs": [],
   "source": [
    "import os\n",
    "import torch\n",
    "import torchaudio\n",
    "from tqdm import tqdm\n",
    "import numpy as np\n",
    "import pandas as pd\n",
    "import matplotlib.pyplot as plt\n",
    "import seaborn as sns"
   ]
  },
  {
   "cell_type": "markdown",
   "id": "db91db42",
   "metadata": {},
   "source": [
    "# Reading Dataset"
   ]
  },
  {
   "cell_type": "code",
   "execution_count": 2,
   "id": "50dd37d8",
   "metadata": {},
   "outputs": [
    {
     "data": {
      "text/html": [
       "<div>\n",
       "<style scoped>\n",
       "    .dataframe tbody tr th:only-of-type {\n",
       "        vertical-align: middle;\n",
       "    }\n",
       "\n",
       "    .dataframe tbody tr th {\n",
       "        vertical-align: top;\n",
       "    }\n",
       "\n",
       "    .dataframe thead th {\n",
       "        text-align: right;\n",
       "    }\n",
       "</style>\n",
       "<table border=\"1\" class=\"dataframe\">\n",
       "  <thead>\n",
       "    <tr style=\"text-align: right;\">\n",
       "      <th></th>\n",
       "      <th>image_id</th>\n",
       "      <th>P_TYPE</th>\n",
       "      <th>English Text Pre</th>\n",
       "      <th>Hindi Text Pre</th>\n",
       "    </tr>\n",
       "  </thead>\n",
       "  <tbody>\n",
       "    <tr>\n",
       "      <th>0</th>\n",
       "      <td>11</td>\n",
       "      <td>train</td>\n",
       "      <td>it is an indoor scene</td>\n",
       "      <td>यह एक इनडोर दृश्य है</td>\n",
       "    </tr>\n",
       "    <tr>\n",
       "      <th>1</th>\n",
       "      <td>17</td>\n",
       "      <td>train</td>\n",
       "      <td>computer screens turned on</td>\n",
       "      <td>कंप्यूटर स्क्रीन चालू</td>\n",
       "    </tr>\n",
       "    <tr>\n",
       "      <th>2</th>\n",
       "      <td>18</td>\n",
       "      <td>train</td>\n",
       "      <td>man has short hair</td>\n",
       "      <td>आदमी के छोटे बाल हैं</td>\n",
       "    </tr>\n",
       "    <tr>\n",
       "      <th>3</th>\n",
       "      <td>21</td>\n",
       "      <td>train</td>\n",
       "      <td>photo album open on an adult lap</td>\n",
       "      <td>एक वयस्क की गोद में फोटो एल्बम खुला</td>\n",
       "    </tr>\n",
       "    <tr>\n",
       "      <th>4</th>\n",
       "      <td>23</td>\n",
       "      <td>train</td>\n",
       "      <td>there is a group of girls beside the black car</td>\n",
       "      <td>काली कार के पास लड़कियों का एक समूह है</td>\n",
       "    </tr>\n",
       "    <tr>\n",
       "      <th>...</th>\n",
       "      <td>...</td>\n",
       "      <td>...</td>\n",
       "      <td>...</td>\n",
       "      <td>...</td>\n",
       "    </tr>\n",
       "    <tr>\n",
       "      <th>28914</th>\n",
       "      <td>2417973</td>\n",
       "      <td>train</td>\n",
       "      <td>two halves of sandwich</td>\n",
       "      <td>सैंडविच के दो हिस्सों</td>\n",
       "    </tr>\n",
       "    <tr>\n",
       "      <th>28915</th>\n",
       "      <td>2417974</td>\n",
       "      <td>train</td>\n",
       "      <td>an elephant standing outside</td>\n",
       "      <td>एक हाथी बाहर खड़ा है</td>\n",
       "    </tr>\n",
       "    <tr>\n",
       "      <th>28916</th>\n",
       "      <td>2417990</td>\n",
       "      <td>train</td>\n",
       "      <td>blue umbrella on deck</td>\n",
       "      <td>डेक पर नीली छतरी</td>\n",
       "    </tr>\n",
       "    <tr>\n",
       "      <th>28917</th>\n",
       "      <td>2417994</td>\n",
       "      <td>train</td>\n",
       "      <td>this is a sheep</td>\n",
       "      <td>यह एक भेड़ है</td>\n",
       "    </tr>\n",
       "    <tr>\n",
       "      <th>28918</th>\n",
       "      <td>2417995</td>\n",
       "      <td>train</td>\n",
       "      <td>a train left tail light</td>\n",
       "      <td>ट्रेन की बाईं पूंछ की रोशनी</td>\n",
       "    </tr>\n",
       "  </tbody>\n",
       "</table>\n",
       "<p>28919 rows × 4 columns</p>\n",
       "</div>"
      ],
      "text/plain": [
       "       image_id P_TYPE                                English Text Pre  \\\n",
       "0            11  train                           it is an indoor scene   \n",
       "1            17  train                      computer screens turned on   \n",
       "2            18  train                              man has short hair   \n",
       "3            21  train                photo album open on an adult lap   \n",
       "4            23  train  there is a group of girls beside the black car   \n",
       "...         ...    ...                                             ...   \n",
       "28914   2417973  train                          two halves of sandwich   \n",
       "28915   2417974  train                    an elephant standing outside   \n",
       "28916   2417990  train                           blue umbrella on deck   \n",
       "28917   2417994  train                                 this is a sheep   \n",
       "28918   2417995  train                         a train left tail light   \n",
       "\n",
       "                               Hindi Text Pre  \n",
       "0                        यह एक इनडोर दृश्य है  \n",
       "1                       कंप्यूटर स्क्रीन चालू  \n",
       "2                        आदमी के छोटे बाल हैं  \n",
       "3         एक वयस्क की गोद में फोटो एल्बम खुला  \n",
       "4      काली कार के पास लड़कियों का एक समूह है  \n",
       "...                                       ...  \n",
       "28914                   सैंडविच के दो हिस्सों  \n",
       "28915                    एक हाथी बाहर खड़ा है  \n",
       "28916                        डेक पर नीली छतरी  \n",
       "28917                           यह एक भेड़ है  \n",
       "28918             ट्रेन की बाईं पूंछ की रोशनी  \n",
       "\n",
       "[28919 rows x 4 columns]"
      ]
     },
     "execution_count": 2,
     "metadata": {},
     "output_type": "execute_result"
    }
   ],
   "source": [
    "df = pd.read_csv(\"./Dataset/text/HVG_Pre_Processed.csv\", usecols = ['image_id','P_TYPE', 'English Text Pre','Hindi Text Pre'])\n",
    "df.drop_duplicates(inplace = True)\n",
    "df = df[df['P_TYPE'] == 'train']\n",
    "df"
   ]
  },
  {
   "cell_type": "markdown",
   "id": "6ddcb147",
   "metadata": {},
   "source": [
    "### Getting each sentence length"
   ]
  },
  {
   "cell_type": "code",
   "execution_count": 3,
   "id": "f5a9ea70",
   "metadata": {},
   "outputs": [],
   "source": [
    "src_len = [len(i.split()) for i in df['English Text Pre']]\n",
    "tgt_len = [len(i.split()) for i in df['Hindi Text Pre']]\n",
    "df_src = pd.DataFrame({\"Length\":src_len,'Language':['English' for i in range(len(src_len))]})\n",
    "df_tgt = pd.DataFrame({\"Length\":tgt_len,'Language':['Hindi' for i in range(len(tgt_len))]})\n",
    "df_cnct = pd.concat([df_src,df_tgt])\n",
    "#df"
   ]
  },
  {
   "cell_type": "markdown",
   "id": "817b6409",
   "metadata": {},
   "source": [
    "### Plotting Boxplot"
   ]
  },
  {
   "cell_type": "code",
   "execution_count": 4,
   "id": "cfce9531",
   "metadata": {},
   "outputs": [
    {
     "data": {
      "image/png": "[encoded data removed]",
      "text/plain": [
       "<Figure size 800x600 with 1 Axes>"
      ]
     },
     "metadata": {},
     "output_type": "display_data"
    }
   ],
   "source": [
    "fig, ax = plt.subplots(figsize=(8, 6))\n",
    "sns.boxplot(ax = ax, data=df_cnct, y=\"Length\", x=\"Language\")\n",
    "plt.ylabel(\"Sentence length\")\n",
    "plt.yticks(np.arange(0,33,step=2))\n",
    "ax.set_axisbelow(True)\n",
    "ax.spines[['right', 'top']].set_visible(False)\n",
    "ax.grid(color='dimgrey', linestyle='-', linewidth=0.1)\n",
    "plt.savefig(\"./Graphs/Sent_len_plot.png\",dpi = 500)\n",
    "plt.show()"
   ]
  },
  {
   "cell_type": "markdown",
   "id": "386a0d87",
   "metadata": {},
   "source": [
    "# Final Analysis"
   ]
  },
  {
   "cell_type": "markdown",
   "id": "0c23c1ba",
   "metadata": {},
   "source": [
    "<html>\n",
    "English length = 10,\n",
    "Hindi length = 10,\n",
    "</html>"
   ]
  }
 ],
 "metadata": {
  "kernelspec": {
   "display_name": "Python 3 (ipykernel)",
   "language": "python",
   "name": "python3"
  },
  "language_info": {
   "codemirror_mode": {
    "name": "ipython",
    "version": 3
   },
   "file_extension": ".py",
   "mimetype": "text/x-python",
   "name": "python",
   "nbconvert_exporter": "python",
   "pygments_lexer": "ipython3",
   "version": "3.10.9"
  }
 },
 "nbformat": 4,
 "nbformat_minor": 5
}
